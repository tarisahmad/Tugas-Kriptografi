{
 "cells": [
  {
   "cell_type": "code",
   "execution_count": 1,
   "id": "043fde35",
   "metadata": {},
   "outputs": [],
   "source": [
    "def xor(a, b):\n",
    "    ans = \"\"\n",
    "    for i in range(len(a)):\n",
    "        if a[i] == b[i]:\n",
    "            ans = ans + \"0\"\n",
    "        else:\n",
    "            ans = ans + \"1\"\n",
    "    return ans"
   ]
  },
  {
   "cell_type": "code",
   "execution_count": 2,
   "id": "1615dbc3",
   "metadata": {},
   "outputs": [],
   "source": [
    "def shift_left(k, nth_shifts):\n",
    "    s = \"\"\n",
    "    for i in range(nth_shifts):\n",
    "        for j in range(1,len(k)):\n",
    "            s = s + k[j]\n",
    "        s = s + k[0]\n",
    "        k = s\n",
    "        s = \"\"\n",
    "    return k"
   ]
  },
  {
   "cell_type": "code",
   "execution_count": 6,
   "id": "015539d4",
   "metadata": {},
   "outputs": [],
   "source": [
    "pt=\"0011\"\n",
    "key=\"1111\"\n",
    "left_shift=2\n",
    "iv=\"1010\""
   ]
  },
  {
   "cell_type": "code",
   "execution_count": 7,
   "id": "3125abc5",
   "metadata": {},
   "outputs": [
    {
     "name": "stdout",
     "output_type": "stream",
     "text": [
      "1100\n",
      "0011\n"
     ]
    }
   ],
   "source": [
    "#ECB, XOR kunci lalu shifting\n",
    "result_ecb=xor(pt,key)\n",
    "after_shift=shift_left(result_ecb,left_shift)\n",
    "\n",
    "print(result_ecb)\n",
    "print(after_shift)    "
   ]
  },
  {
   "cell_type": "code",
   "execution_count": 8,
   "id": "ddbe6acd",
   "metadata": {},
   "outputs": [
    {
     "name": "stdout",
     "output_type": "stream",
     "text": [
      "1001\n",
      "0110\n",
      "1001\n"
     ]
    }
   ],
   "source": [
    "#CBC, XOR Iv lalu XOR Kunci lalu shifting\n",
    "result_1=xor(pt,iv)\n",
    "result_2=xor(result_1,key)\n",
    "after_shift=shift_left(result_2,left_shift)\n",
    "\n",
    "print(result_1)\n",
    "print(result_2)\n",
    "print(after_shift)"
   ]
  },
  {
   "cell_type": "code",
   "execution_count": null,
   "id": "e144ed80",
   "metadata": {},
   "outputs": [],
   "source": []
  }
 ],
 "metadata": {
  "kernelspec": {
   "display_name": "Python 3 (ipykernel)",
   "language": "python",
   "name": "python3"
  },
  "language_info": {
   "codemirror_mode": {
    "name": "ipython",
    "version": 3
   },
   "file_extension": ".py",
   "mimetype": "text/x-python",
   "name": "python",
   "nbconvert_exporter": "python",
   "pygments_lexer": "ipython3",
   "version": "3.9.7"
  }
 },
 "nbformat": 4,
 "nbformat_minor": 5
}
